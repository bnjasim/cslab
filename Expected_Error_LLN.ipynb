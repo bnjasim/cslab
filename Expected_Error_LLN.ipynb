{
 "cells": [
  {
   "cell_type": "code",
   "execution_count": 4,
   "metadata": {
    "collapsed": false
   },
   "outputs": [],
   "source": [
    "%matplotlib inline\n",
    "\n",
    "import random\n",
    "import numpy as np\n",
    "import matplotlib.pyplot as plt\n"
   ]
  },
  {
   "cell_type": "code",
   "execution_count": 6,
   "metadata": {
    "collapsed": false
   },
   "outputs": [],
   "source": [
    "# roll a dice n times and return the list\n",
    "def roll_dice(n):\n",
    "    l = []\n",
    "    for i in range(n):\n",
    "        d = random.randint(1,6)\n",
    "        l += [d]\n",
    "    return l    "
   ]
  },
  {
   "cell_type": "code",
   "execution_count": 7,
   "metadata": {
    "collapsed": false
   },
   "outputs": [
    {
     "name": "stdout",
     "output_type": "stream",
     "text": [
      "3.43\n"
     ]
    }
   ],
   "source": [
    "# expected value = 3.5\n",
    "v = 0\n",
    "for i in range(10):\n",
    "    v += np.mean(roll_dice(10))\n",
    "\n",
    "print v/10.0    "
   ]
  },
  {
   "cell_type": "code",
   "execution_count": 12,
   "metadata": {
    "collapsed": false
   },
   "outputs": [
    {
     "data": {
      "text/plain": [
       "0.14999999999999991"
      ]
     },
     "execution_count": 12,
     "metadata": {},
     "output_type": "execute_result"
    }
   ],
   "source": [
    "# error \n",
    "np.abs(np.mean(roll_dice(100)) - 3.5)"
   ]
  },
  {
   "cell_type": "code",
   "execution_count": 89,
   "metadata": {
    "collapsed": false
   },
   "outputs": [],
   "source": [
    "# Law of Large Numbers\n",
    "def sim_error(n):\n",
    "    err = 0\n",
    "    for i in range(50):\n",
    "        err += np.abs(np.mean(roll_dice(n)) - 3.5)\n",
    "    \n",
    "    return err/50"
   ]
  },
  {
   "cell_type": "code",
   "execution_count": 92,
   "metadata": {
    "collapsed": false
   },
   "outputs": [
    {
     "data": {
      "image/png": "[encoded data removed]",
      "text/plain": [
       "<matplotlib.figure.Figure at 0x9aa4630>"
      ]
     },
     "metadata": {},
     "output_type": "display_data"
    }
   ],
   "source": [
    "x = range(1,120)\n",
    "y = []\n",
    "z = []\n",
    "\n",
    "for i in x:\n",
    "    t = sim_error(i)\n",
    "    y += [t]\n",
    "    z += [1.36/np.sqrt(i)]\n",
    "\n",
    "plt.plot(x,y)\n",
    "plt.plot(x,z)\n",
    "plt.show()"
   ]
  },
  {
   "cell_type": "markdown",
   "metadata": {},
   "source": [
    "It can be shown that the curve is $\\frac{\\sigma(X)}{\\sqrt(n)}$<br/>\n",
    "Var(X) = 91/6 for dice rolling"
   ]
  },
  {
   "cell_type": "code",
   "execution_count": 65,
   "metadata": {
    "collapsed": false
   },
   "outputs": [
    {
     "name": "stdout",
     "output_type": "stream",
     "text": [
      "0.04307\n",
      "0.0540064810926\n"
     ]
    }
   ],
   "source": [
    "# Check whether error^2 approaches var(x)/n for large n\n",
    "n = 1000\n",
    "print sim_error(n)\n",
    "print np.sqrt(2.9167)/np.sqrt(n)"
   ]
  },
  {
   "cell_type": "markdown",
   "metadata": {
    "collapsed": false
   },
   "source": [
    "### Central Limit Theorem - Non identical distributions\n",
    "Sum of dice rolls and coin tosses "
   ]
  },
  {
   "cell_type": "code",
   "execution_count": 102,
   "metadata": {
    "collapsed": false
   },
   "outputs": [
    {
     "data": {
      "image/png": "[encoded data removed]",
      "text/plain": [
       "<matplotlib.figure.Figure at 0x91add68>"
      ]
     },
     "metadata": {},
     "output_type": "display_data"
    }
   ],
   "source": [
    "def toss_coin(n):\n",
    "    l = []\n",
    "    for i in range(n):\n",
    "        d = random.randint(0,1)\n",
    "        l += [d]\n",
    "    return l   \n",
    "\n",
    "n = 100\n",
    "h = []\n",
    "for i in range(1000):\n",
    "    sum = reduce(lambda x, y: x+y, toss_coin(100) + roll_dice(100))\n",
    "    h.append(sum/100.0)\n",
    "    \n",
    "plt.hist(h)\n",
    "plt.title(\"Gaussian Histogram\")\n",
    "plt.xlabel(\"Value\")\n",
    "plt.ylabel(\"Frequency\")\n",
    "plt.show()"
   ]
  },
  {
   "cell_type": "markdown",
   "metadata": {},
   "source": [
    "$E[(\\frac{\\sum_{i=1}^{n}x_i}{n} - 3.5)^2]$\n"
   ]
  }
 ],
 "metadata": {
  "kernelspec": {
   "display_name": "Python [Root]",
   "language": "python",
   "name": "Python [Root]"
  },
  "language_info": {
   "codemirror_mode": {
    "name": "ipython",
    "version": 2
   },
   "file_extension": ".py",
   "mimetype": "text/x-python",
   "name": "python",
   "nbconvert_exporter": "python",
   "pygments_lexer": "ipython2",
   "version": "2.7.12"
  }
 },
 "nbformat": 4,
 "nbformat_minor": 0
}
