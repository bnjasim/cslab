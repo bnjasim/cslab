{
 "cells": [
  {
   "cell_type": "markdown",
   "metadata": {},
   "source": [
    "# Mixture of Linear Regression Models\n",
    "\n",
    "In this demostration, we will fit two lines to a synthetic dataset <br/>\n",
    "<i>@author Binu Jasim (bnjasim@gmail.com) (cslab.org)<br/>\n",
    "@date 24-Nov-2016 <br/>"
   ]
  },
  {
   "cell_type": "code",
   "execution_count": 195,
   "metadata": {
    "collapsed": false
   },
   "outputs": [],
   "source": [
    "%matplotlib inline\n",
    "\n",
    "import numpy as np\n",
    "import matplotlib.pyplot as plt"
   ]
  },
  {
   "cell_type": "markdown",
   "metadata": {},
   "source": [
    "### Generate data\n",
    "\n",
    "line1 is $f_1(x) = w_1^{T}x$ and line2 is $f_2(x) = w_2^{T}x$ \n",
    "\n",
    "Generate data with gaussian noise around f(x) with std $\\sigma^2$"
   ]
  },
  {
   "cell_type": "code",
   "execution_count": 501,
   "metadata": {
    "collapsed": false
   },
   "outputs": [
    {
     "data": {
      "image/png": "[encoded data removed]",
      "text/plain": [
       "<matplotlib.figure.Figure at 0x10e7c0f90>"
      ]
     },
     "metadata": {},
     "output_type": "display_data"
    }
   ],
   "source": [
    "n = 20 # number of datapoints in each line\n",
    "v1 = np.array([-13, 0.9]) # first line\n",
    "v2 = np.array([7, -1]) # second line\n",
    "sig = 1.0\n",
    "seq = np.array(range(n))+1\n",
    "x = np.transpose(np.array([np.ones(n), seq])) # Half of Design Matrix as there are two y's for each x\n",
    "\n",
    "line1 = np.zeros(n)\n",
    "line2 = np.zeros(n)\n",
    "for i in range(n):\n",
    "    line1[i] = np.random.normal(np.dot(v1, x[i]), sig)\n",
    "    line2[i] = np.random.normal(np.dot(v2, x[i]), sig)\n",
    "\n",
    "plt.plot(seq, line1, 'ro')\n",
    "plt.plot(seq, line2, 'b+')\n",
    "plt.show()    "
   ]
  },
  {
   "cell_type": "markdown",
   "metadata": {},
   "source": [
    "## EM Algorithm \n",
    "Run EM algorithm on the above dataset\n",
    "\n",
    "#### E Step\n",
    "$\\gamma(z_{nk}) = \\frac{\\pi_k \\mathcal{N}(y_n/w_k^{T}x_n, \\sigma^2)} {\\sum_{j=1}^K \\pi_j \\mathcal{N}(y_n/w_j^{T}x_n, \\sigma^2)}$ where $z_{nk}$ indicates whether $n^{th}$ data point is generated by the $k^{th}$ line.\n",
    "\n",
    "#### M Step\n",
    "\n",
    "Update $\\pi_k$, $w_k$ as follows;\n",
    "\n",
    "$\\pi_k = \\frac{\\sum_{i=1}^{N}\\gamma(z_{nk})}{\\sum_{i=1}^{N} \\sum_{k=1}^{K}\\gamma(z_{nk})} = \\frac{\\sum_{i=1}^{N}\\gamma(z_{nk})}{N} = \\frac{N_k}{N}$\n",
    "\n",
    "$w_k = (X^T Z_k X)^{-1} X^T Z_k Y$, where $X$ is the design matrix, Y is the column vector of $y_n$ values and $Z$ is a diagonal matrix with $\\gamma(z_{nk})$ on the diagonals.\n",
    "\n",
    "Note that we are keeping $\\sigma$ as a known fixed value for simplicity. But it can be estimated as well."
   ]
  },
  {
   "cell_type": "code",
   "execution_count": 502,
   "metadata": {
    "collapsed": true
   },
   "outputs": [],
   "source": [
    "# Constants\n",
    "N = 2*n # total number of data points\n",
    "X = np.vstack((x, x)) # Design Matrix; \n",
    "Y = np.concatenate((line1, line2)) # Target vector;\n",
    "\n",
    "# Initialize the parameters\n",
    "p1 = np.random.rand()\n",
    "p2 = 1-p1\n",
    "w1 = np.array([np.random.normal(0, 5), np.random.normal(0,2)])\n",
    "w2 = np.array([np.random.normal(0, 5), np.random.normal(0,2)])"
   ]
  },
  {
   "cell_type": "markdown",
   "metadata": {},
   "source": [
    "###### Division by zero should be avoided\n",
    "Let $ x = \\frac{\\pi_1  e^{-p}}{\\pi_1  e^{-p} + \\pi_2  e^{-q}} $\n",
    "Now the problem is p and q can be both very large, and hence a 0 by 0 division.\n",
    "\n",
    "$\\log(x) = -\\log(1+\\frac{\\pi_2 e^{p-q}}{\\pi_1})$"
   ]
  },
  {
   "cell_type": "code",
   "execution_count": 505,
   "metadata": {
    "collapsed": false
   },
   "outputs": [
    {
     "name": "stdout",
     "output_type": "stream",
     "text": [
      "[ 6.57793698 -0.97976756] [-13.0959157    0.90949695] 0.512633944581 0.487366055419\n"
     ]
    },
    {
     "data": {
      "image/png": "[encoded data removed]",
      "text/plain": [
       "<matplotlib.figure.Figure at 0x10e564410>"
      ]
     },
     "metadata": {},
     "output_type": "display_data"
    }
   ],
   "source": [
    "# Press ^Enter to run each iteration\n",
    "\n",
    "# E Step: compute gammas (dividing directly causes 0 by 0 division. Go log)\n",
    "p_ = -0.5/(sig*sig) * (np.dot(X, w1) - Y)**2\n",
    "q_ = -0.5/(sig*sig) * (np.dot(X, w2) - Y)**2\n",
    "g1 = np.exp(-np.log(1 + np.exp(p_ - q_)*p2/p1))\n",
    "g2 = 1-g1 # np.exp(-np.log(1 + np.exp(q_ - p_)*p1/p2))\n",
    "\n",
    "# M Step: recompute pi and w\n",
    "p1 = np.sum(g1)/N\n",
    "p2 = np.sum(g2)/N\n",
    "assert (np.abs(p1+p2-1) < 0.000001), \"Not normalized - sad face puppy face\"\n",
    "\n",
    "Z1 = np.diag(g1)\n",
    "Z2 = np.diag(g2)\n",
    "T1 = np.dot(np.transpose(X), Z1) # X'*Z1\n",
    "T2 = np.dot(np.transpose(X), Z2) # X'*Z2\n",
    "w1 = np.dot(np.linalg.pinv(np.dot(T1, X)), np.dot(T1, Y))\n",
    "w2 = np.dot(np.linalg.pinv(np.dot(T2, X)), np.dot(T2, Y))\n",
    "\n",
    "print w1, w2, p1, p2\n",
    "\n",
    "plt.plot(seq, line1, 'ro')\n",
    "plt.plot(seq, line2, 'b+')\n",
    "plt.plot(seq, np.dot(x, w1))\n",
    "plt.plot(seq, np.dot(x, w2))\n",
    "plt.show()"
   ]
  },
  {
   "cell_type": "markdown",
   "metadata": {},
   "source": [
    "###### Local Minima problem\n",
    "Note that EM algorithm maynot converge to the required optimal minima always. Many times the convergence is to a local minimum."
   ]
  },
  {
   "cell_type": "markdown",
   "metadata": {},
   "source": [
    "\n",
    "## K Means like algorithm\n",
    "Next we will try an algorithm inspired by the K-Means. The algorithm is as follows: Randomly initialize two lines. Assign each point to one of the lines (hard assignment as opposed to EM above) based on the nearest distance to the lines. Then refit the lines to the assigned points. "
   ]
  },
  {
   "cell_type": "code",
   "execution_count": 464,
   "metadata": {
    "collapsed": false
   },
   "outputs": [],
   "source": [
    "def closer_to_first(d, w1, w2):\n",
    "    # d[0] is x and d[1] is y\n",
    "    return 1 if (np.dot(w1, d[0])-d[1])**2 <= (np.dot(w2, d[0])-d[1])**2 else 0"
   ]
  },
  {
   "cell_type": "code",
   "execution_count": 561,
   "metadata": {
    "collapsed": true
   },
   "outputs": [],
   "source": [
    "# Initialization\n",
    "w1 = np.array([np.random.normal(0, 5), np.random.normal(0,2)])\n",
    "w2 = np.array([np.random.normal(0, 5), np.random.normal(0,2)])"
   ]
  },
  {
   "cell_type": "code",
   "execution_count": 564,
   "metadata": {
    "collapsed": false
   },
   "outputs": [
    {
     "name": "stdout",
     "output_type": "stream",
     "text": [
      "[-13.08322855   0.91007682] [ 6.64849374 -0.98168646]\n"
     ]
    },
    {
     "data": {
      "image/png": "[encoded data removed]",
      "text/plain": [
       "<matplotlib.figure.Figure at 0x10d72ce50>"
      ]
     },
     "metadata": {},
     "output_type": "display_data"
    }
   ],
   "source": [
    "# Assign each point to the nearest line\n",
    "z1 = np.array([closer_to_first(d, w1, w2) for d in zip(X, Y)])\n",
    "Z1 = np.diag(z1)\n",
    "Z2 = np.diag(1-z1)\n",
    "# recompute the equations of lines - same as M step in EM algorithm\n",
    "T1 = np.dot(np.transpose(X), Z1) # X'*Z1\n",
    "T2 = np.dot(np.transpose(X), Z2) # X'*Z2\n",
    "w1 = np.dot(np.linalg.pinv(np.dot(T1, X)), np.dot(T1, Y))\n",
    "w2 = np.dot(np.linalg.pinv(np.dot(T2, X)), np.dot(T2, Y))\n",
    "\n",
    "print w1, w2\n",
    "plt.plot(seq, line1, 'ro')\n",
    "plt.plot(seq, line2, 'b+')\n",
    "plt.plot(seq, np.dot(x, w1))\n",
    "plt.plot(seq, np.dot(x, w2))\n",
    "plt.show()"
   ]
  },
  {
   "cell_type": "markdown",
   "metadata": {},
   "source": [
    "### What if we minimize the perpendicular distance to the line\n",
    "The alternative K Means like algorithm by minimizing the sum of perpendicular distances<br/>\n",
    "The perpendicular distance to a line $y=mx+c$ from a point $(a,b)$ is given by $\\frac{ma+c-b}{\\sqrt{m^2+1}}$\n"
   ]
  },
  {
   "cell_type": "code",
   "execution_count": 530,
   "metadata": {
    "collapsed": true
   },
   "outputs": [],
   "source": [
    "def perpend_to_first(d, w1, w2):\n",
    "    # d[0] is x and d[1] is y\n",
    "    return 1 if np.abs(np.dot(w1, d[0])-d[1])/np.linalg.norm([1,w1[1]]) <= np.abs(np.dot(w2, d[0])-d[1])/np.linalg.norm([1,w2[1]]) else 0"
   ]
  },
  {
   "cell_type": "code",
   "execution_count": 570,
   "metadata": {
    "collapsed": false
   },
   "outputs": [],
   "source": [
    "# Initialization\n",
    "w1 = np.array([np.random.normal(0, 5), np.random.normal(0,2)])\n",
    "w2 = np.array([np.random.normal(0, 5), np.random.normal(0,2)])"
   ]
  },
  {
   "cell_type": "code",
   "execution_count": 572,
   "metadata": {
    "collapsed": false
   },
   "outputs": [
    {
     "name": "stdout",
     "output_type": "stream",
     "text": [
      "[ 6.90449624 -0.97611082] [-13.09369272   0.90161886]\n"
     ]
    },
    {
     "data": {
      "image/png": "[encoded data removed]",
      "text/plain": [
       "<matplotlib.figure.Figure at 0x10e34be50>"
      ]
     },
     "metadata": {},
     "output_type": "display_data"
    }
   ],
   "source": [
    "# Assign each point to the nearest line\n",
    "z1 = np.array([perpend_to_first(d, w1, w2) for d in zip(X, Y)])\n",
    "Z1 = np.diag(z1)\n",
    "Z2 = np.diag(1-z1)\n",
    "# recompute the equations of lines - same as M step in EM algorithm\n",
    "T1 = np.dot(np.transpose(X), Z1) # X'*Z1\n",
    "T2 = np.dot(np.transpose(X), Z2) # X'*Z2\n",
    "w1 = np.dot(np.linalg.pinv(np.dot(T1, X)), np.dot(T1, Y))\n",
    "w2 = np.dot(np.linalg.pinv(np.dot(T2, X)), np.dot(T2, Y))\n",
    "\n",
    "print w1, w2\n",
    "plt.plot(seq, line1, 'ro')\n",
    "plt.plot(seq, line2, 'b+')\n",
    "plt.plot(seq, np.dot(x, w1))\n",
    "plt.plot(seq, np.dot(x, w2))\n",
    "plt.show()"
   ]
  }
 ],
 "metadata": {
  "anaconda-cloud": {},
  "kernelspec": {
   "display_name": "Python [Root]",
   "language": "python",
   "name": "Python [Root]"
  },
  "language_info": {
   "codemirror_mode": {
    "name": "ipython",
    "version": 2
   },
   "file_extension": ".py",
   "mimetype": "text/x-python",
   "name": "python",
   "nbconvert_exporter": "python",
   "pygments_lexer": "ipython2",
   "version": "2.7.9"
  }
 },
 "nbformat": 4,
 "nbformat_minor": 0
}
